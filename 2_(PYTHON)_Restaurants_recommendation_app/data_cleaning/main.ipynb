{
 "cells": [
  {
   "cell_type": "code",
   "execution_count": 1,
   "metadata": {},
   "outputs": [],
   "source": [
    "import pandas as pd\n",
    "from cleaning_functions.cuisine_column import clean_cuisine_column\n",
    "from cleaning_functions.cost_column import clean_cost_column\n",
    "from cleaning_functions.coordinates_columns import coordinates_generator\n",
    "from cleaning_functions.name_column import clean_name_column\n",
    "from cleaning_functions.phone_column import clean_phone_column\n",
    "from cleaning_functions.drop_columns import drop_columns\n",
    "from cleaning_functions.drop_indexes import drop_empty_rows\n",
    "from cleaning_functions.rates_column import clean_rates\n",
    "from cleaning_functions.drop_duplicates import drop_duplicated_rows\n",
    "df = pd.read_csv(\"zomato.csv\")\n",
    "\n"
   ]
  },
  {
   "cell_type": "code",
   "execution_count": 2,
   "metadata": {},
   "outputs": [],
   "source": [
    "def clean_dataframe(df):\n",
    "\n",
    "    clean_cuisine_column(df)\n",
    "    clean_cost_column(df)\n",
    "    coordinates_generator(df)\n",
    "    clean_name_column(df)\n",
    "    clean_phone_column(df)\n",
    "    clean_rates(df)\n",
    "    drop_columns(df)\n",
    "    drop_empty_rows(df)\n",
    "    drop_duplicated_rows(df)\n",
    "\n",
    "    return df\n",
    "\n",
    "\n",
    "  \n",
    "if __name__ == '__main__':\n",
    "    clean_dataframe(df)"
   ]
  },
  {
   "cell_type": "code",
   "execution_count": 3,
   "metadata": {},
   "outputs": [
    {
     "name": "stdout",
     "output_type": "stream",
     "text": [
      "<class 'pandas.core.frame.DataFrame'>\n",
      "Int64Index: 12066 entries, 0 to 51714\n",
      "Data columns (total 12 columns):\n",
      " #   Column     Non-Null Count  Dtype  \n",
      "---  ------     --------------  -----  \n",
      " 0   url        12066 non-null  object \n",
      " 1   address    12066 non-null  object \n",
      " 2   name       12066 non-null  object \n",
      " 3   rate       9061 non-null   float64\n",
      " 4   votes      12066 non-null  int64  \n",
      " 5   phone      12066 non-null  object \n",
      " 6   location   12066 non-null  object \n",
      " 7   rest_type  12010 non-null  object \n",
      " 8   cuisines   12066 non-null  object \n",
      " 9   cost       12066 non-null  object \n",
      " 10  latitude   12066 non-null  float64\n",
      " 11  longitude  12066 non-null  float64\n",
      "dtypes: float64(3), int64(1), object(8)\n",
      "memory usage: 1.2+ MB\n"
     ]
    }
   ],
   "source": [
    "df.info()"
   ]
  },
  {
   "cell_type": "code",
   "execution_count": 4,
   "metadata": {},
   "outputs": [
    {
     "data": {
      "text/plain": [
       "array([4.1, 3.8, 3.7, 3.6, 4.6, 4. , 4.2, 3.9, 3.1, 3. , 3.2, 3.3, 2.8,\n",
       "       4.4, 4.3, nan, 2.9, 3.5, 2.6, 3.4, 4.5, 2.5, 2.7, 4.7, 2.4, 2.2,\n",
       "       2.3, 4.8, 4.9, 2.1, 2. , 1.8])"
      ]
     },
     "execution_count": 4,
     "metadata": {},
     "output_type": "execute_result"
    }
   ],
   "source": [
    "df[\"rate\"].unique()"
   ]
  },
  {
   "cell_type": "code",
   "execution_count": 5,
   "metadata": {},
   "outputs": [
    {
     "data": {
      "text/plain": [
       "51566                  919916297890\n",
       "51567                  919900519019\n",
       "51569    919164992304, 919108004477\n",
       "51571                  919916317138\n",
       "51572                  918880761777\n",
       "51573                  919740039742\n",
       "51577                  919886431461\n",
       "51578    919964590205, 918971835511\n",
       "51587                  916361957990\n",
       "51595                  919740292604\n",
       "51606    918061224716, 918061224717\n",
       "51607                   08049652769\n",
       "51610                  918071117272\n",
       "51611                  919535948061\n",
       "51614                  918123358857\n",
       "51627    919739549643, 917892657455\n",
       "51628    919663517066, 919686861135\n",
       "51632                  919164562939\n",
       "51677                   08065951222\n",
       "51714                     No number\n",
       "Name: phone, dtype: object"
      ]
     },
     "execution_count": 5,
     "metadata": {},
     "output_type": "execute_result"
    }
   ],
   "source": [
    "df[\"phone\"].tail(20)"
   ]
  },
  {
   "cell_type": "code",
   "execution_count": 6,
   "metadata": {},
   "outputs": [
    {
     "data": {
      "text/plain": [
       "array(['800', '300', '600', '700', '550', '500', '450', '650', '400',\n",
       "       '900', '200', '750', '150', '850', '100', '1200', '350', '250',\n",
       "       '950', '1000', '1500', '1300', '199', '80', '1100', '160', '1600',\n",
       "       '230', '130', '50', '190', '1700', 'nan', '1400', '180', '1350',\n",
       "       '2200', '2000', '1800', '1900', '330', '2500', '2100', '3000',\n",
       "       '2800', '3400', '40', '1250', '3500', '4000', '2400', '2600',\n",
       "       '120', '1450', '469', '70', '60', '560', '240', '360', '1050',\n",
       "       '2300', '4100', '1650', '2700', '4500', '140'], dtype=object)"
      ]
     },
     "execution_count": 6,
     "metadata": {},
     "output_type": "execute_result"
    }
   ],
   "source": [
    "df[\"cost\"].unique()"
   ]
  },
  {
   "cell_type": "code",
   "execution_count": 7,
   "metadata": {},
   "outputs": [
    {
     "data": {
      "text/plain": [
       "0    [North Indian, Mughlai, Chinese]\n",
       "1       [Chinese, North Indian, Thai]\n",
       "2            [Cafe, Mexican, Italian]\n",
       "3        [South Indian, North Indian]\n",
       "4          [North Indian, Rajasthani]\n",
       "Name: cuisines, dtype: object"
      ]
     },
     "execution_count": 7,
     "metadata": {},
     "output_type": "execute_result"
    }
   ],
   "source": [
    "df[\"cuisines\"].head()"
   ]
  },
  {
   "cell_type": "code",
   "execution_count": 8,
   "metadata": {},
   "outputs": [
    {
     "data": {
      "text/plain": [
       "0    12.965218\n",
       "1    12.963263\n",
       "2    12.970278\n",
       "3    12.962263\n",
       "4    12.945161\n",
       "5    12.942237\n",
       "6    12.949566\n",
       "7    12.967577\n",
       "8    12.961953\n",
       "9    12.969896\n",
       "Name: latitude, dtype: float64"
      ]
     },
     "execution_count": 8,
     "metadata": {},
     "output_type": "execute_result"
    }
   ],
   "source": [
    "df[\"latitude\"].head(10)"
   ]
  },
  {
   "cell_type": "code",
   "execution_count": 9,
   "metadata": {},
   "outputs": [
    {
     "data": {
      "text/plain": [
       "13669     Casual Dining\n",
       "41483    Dessert Parlor\n",
       "16181          Delivery\n",
       "10032       Quick Bites\n",
       "44367       Quick Bites\n",
       "8770        Quick Bites\n",
       "24538       Quick Bites\n",
       "42659       Quick Bites\n",
       "325         Quick Bites\n",
       "1714        Lounge, Bar\n",
       "Name: rest_type, dtype: object"
      ]
     },
     "execution_count": 9,
     "metadata": {},
     "output_type": "execute_result"
    }
   ],
   "source": [
    "df[\"rest_type\"].sample(10)"
   ]
  }
 ],
 "metadata": {
  "kernelspec": {
   "display_name": "Python 3.9.12 ('bangalore')",
   "language": "python",
   "name": "python3"
  },
  "language_info": {
   "codemirror_mode": {
    "name": "ipython",
    "version": 3
   },
   "file_extension": ".py",
   "mimetype": "text/x-python",
   "name": "python",
   "nbconvert_exporter": "python",
   "pygments_lexer": "ipython3",
   "version": "3.9.12"
  },
  "orig_nbformat": 4,
  "vscode": {
   "interpreter": {
    "hash": "dd5a0b6f96e452150947b8710ecedf36cce7a5ffd0ecbebd44beaea46450f737"
   }
  }
 },
 "nbformat": 4,
 "nbformat_minor": 2
}
