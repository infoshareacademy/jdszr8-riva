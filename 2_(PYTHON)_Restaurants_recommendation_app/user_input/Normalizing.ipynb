{
 "cells": [
  {
   "cell_type": "code",
   "execution_count": 1,
   "id": "13f51577",
   "metadata": {},
   "outputs": [],
   "source": [
    "def normalize_data (df, column_name:str):\n",
    "    new_name = \"\".join([column_name, \"norm\"])\n",
    "    df[new_name] = 0\n",
    "    x_min = df[column_name].min()\n",
    "    x_max = df[column_name].max()\n",
    "    for x in df[column_name].index: \n",
    "        df.at[x, new_name] = (df[column_name][x] - x_min)/(x_max-x_min)"
   ]
  },
  {
   "cell_type": "code",
   "execution_count": null,
   "id": "1cf8f30d",
   "metadata": {},
   "outputs": [],
   "source": [
    "normalize_data(df, 'votes')\n",
    "normalize_data(df, 'cost')\n",
    "normalize_data(df, 'rate')\n",
    "normalize_data(df, 'distance')"
   ]
  }
 ],
 "metadata": {
  "kernelspec": {
   "display_name": "Python 3 (ipykernel)",
   "language": "python",
   "name": "python3"
  },
  "language_info": {
   "codemirror_mode": {
    "name": "ipython",
    "version": 3
   },
   "file_extension": ".py",
   "mimetype": "text/x-python",
   "name": "python",
   "nbconvert_exporter": "python",
   "pygments_lexer": "ipython3",
   "version": "3.9.7"
  }
 },
 "nbformat": 4,
 "nbformat_minor": 5
}
