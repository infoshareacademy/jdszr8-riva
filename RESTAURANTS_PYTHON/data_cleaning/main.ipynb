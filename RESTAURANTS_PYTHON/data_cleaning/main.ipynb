{
 "cells": [
  {
   "cell_type": "code",
   "execution_count": 1,
   "metadata": {},
   "outputs": [],
   "source": [
    "import pandas as pd\n",
    "from cleaning_functions.cuisine_column import clean_cuisine_column\n",
    "from cleaning_functions.cost_column import clean_cost_column\n",
    "from cleaning_functions.coordinates_columns import coordinates_generator\n",
    "from cleaning_functions.name_column import clean_name_column\n",
    "from cleaning_functions.phone_column import clean_phone_column\n",
    "from cleaning_functions.drop_columns import drop_columns\n",
    "from cleaning_functions.drop_indexes import drop_empty_rows\n",
    "from cleaning_functions.rates_column import clean_rates\n",
    "df = pd.read_csv(\"zomato.csv\")\n",
    "\n"
   ]
  },
  {
   "cell_type": "code",
   "execution_count": 2,
   "metadata": {},
   "outputs": [],
   "source": [
    "def clean_dataframe(df):\n",
    "\n",
    "    clean_cuisine_column(df)\n",
    "    clean_cost_column(df)\n",
    "    coordinates_generator(df)\n",
    "    clean_name_column(df)\n",
    "    clean_phone_column(df)\n",
    "    clean_rates(df)\n",
    "    drop_columns(df)\n",
    "    drop_empty_rows(df)\n",
    "    \n",
    "\n",
    "    return df\n",
    "\n",
    "\n",
    "  \n",
    "if __name__ == '__main__':\n",
    "    clean_dataframe(df)"
   ]
  },
  {
   "cell_type": "code",
   "execution_count": 3,
   "metadata": {},
   "outputs": [
    {
     "name": "stdout",
     "output_type": "stream",
     "text": [
      "<class 'pandas.core.frame.DataFrame'>\n",
      "Int64Index: 51672 entries, 0 to 51716\n",
      "Data columns (total 11 columns):\n",
      " #   Column     Non-Null Count  Dtype  \n",
      "---  ------     --------------  -----  \n",
      " 0   url        51672 non-null  object \n",
      " 1   address    51672 non-null  object \n",
      " 2   name       51672 non-null  object \n",
      " 3   rate       41654 non-null  float64\n",
      " 4   votes      51672 non-null  int64  \n",
      " 5   phone      51672 non-null  object \n",
      " 6   location   51672 non-null  object \n",
      " 7   cuisines   51672 non-null  object \n",
      " 8   cost       51672 non-null  object \n",
      " 9   latitude   51672 non-null  float64\n",
      " 10  longitude  51672 non-null  float64\n",
      "dtypes: float64(3), int64(1), object(7)\n",
      "memory usage: 4.7+ MB\n"
     ]
    }
   ],
   "source": [
    "df.info()"
   ]
  },
  {
   "cell_type": "code",
   "execution_count": 4,
   "metadata": {},
   "outputs": [
    {
     "data": {
      "text/plain": [
       "array([4.1, 3.8, 3.7, 3.6, 4.6, 4. , 4.2, 3.9, 3.1, 3. , 3.2, 3.3, 2.8,\n",
       "       4.4, 4.3, nan, 2.9, 3.5, 2.6, 3.4, 4.5, 2.5, 2.7, 4.7, 2.4, 2.2,\n",
       "       2.3, 4.8, 4.9, 2.1, 2. , 1.8])"
      ]
     },
     "execution_count": 4,
     "metadata": {},
     "output_type": "execute_result"
    }
   ],
   "source": [
    "df[\"rate\"].unique()"
   ]
  },
  {
   "cell_type": "code",
   "execution_count": 5,
   "metadata": {},
   "outputs": [
    {
     "data": {
      "text/plain": [
       "51697      08067266655, 08049626655\n",
       "51698                   08068141414\n",
       "51699    917676924054, 919137153744\n",
       "51700    917338630404, 918067266651\n",
       "51701                  918929188573\n",
       "51702                  009108214702\n",
       "51703    918043691111, 918028026519\n",
       "51704    919900069474, 917899644468\n",
       "51705    917625087121, 918050587483\n",
       "51706                  919740571131\n",
       "51707                   08049435000\n",
       "51708     08039451000, 918884038484\n",
       "51709    919980121279, 919900240646\n",
       "51710                  919148155994\n",
       "51711                   08065951222\n",
       "51712                   08040301477\n",
       "51713                  918197675843\n",
       "51714                     No number\n",
       "51715                   08049652769\n",
       "51716                  918071117272\n",
       "Name: phone, dtype: object"
      ]
     },
     "execution_count": 5,
     "metadata": {},
     "output_type": "execute_result"
    }
   ],
   "source": [
    "df[\"phone\"].tail(20)"
   ]
  },
  {
   "cell_type": "code",
   "execution_count": 6,
   "metadata": {},
   "outputs": [
    {
     "data": {
      "text/plain": [
       "array(['800', '300', '600', '700', '550', '500', '450', '650', '400',\n",
       "       '900', '200', '750', '150', '850', '100', '1200', '350', '250',\n",
       "       '950', '1000', '1500', '1300', '199', '80', '1100', '160', '1600',\n",
       "       '230', '130', '50', '190', '1700', 'nan', '1400', '180', '1350',\n",
       "       '2200', '2000', '1800', '1900', '330', '2500', '2100', '3000',\n",
       "       '2800', '3400', '40', '1250', '3500', '4000', '2400', '2600',\n",
       "       '120', '1450', '469', '70', '3200', '60', '560', '240', '360',\n",
       "       '6000', '1050', '2300', '4100', '5000', '3700', '1650', '2700',\n",
       "       '4500', '140'], dtype=object)"
      ]
     },
     "execution_count": 6,
     "metadata": {},
     "output_type": "execute_result"
    }
   ],
   "source": [
    "df[\"cost\"].unique()"
   ]
  },
  {
   "cell_type": "code",
   "execution_count": 7,
   "metadata": {},
   "outputs": [
    {
     "data": {
      "text/plain": [
       "0    [North Indian, Mughlai, Chinese]\n",
       "1       [Chinese, North Indian, Thai]\n",
       "2            [Cafe, Mexican, Italian]\n",
       "3        [South Indian, North Indian]\n",
       "4          [North Indian, Rajasthani]\n",
       "Name: cuisines, dtype: object"
      ]
     },
     "execution_count": 7,
     "metadata": {},
     "output_type": "execute_result"
    }
   ],
   "source": [
    "df[\"cuisines\"].head()"
   ]
  },
  {
   "cell_type": "code",
   "execution_count": 8,
   "metadata": {},
   "outputs": [
    {
     "data": {
      "text/plain": [
       "0    12.969607\n",
       "1    12.966603\n",
       "2    12.961963\n",
       "3    12.966175\n",
       "4    12.940798\n",
       "5    12.946532\n",
       "6    12.948586\n",
       "7    12.961597\n",
       "8    12.968006\n",
       "9    12.968971\n",
       "Name: latitude, dtype: float64"
      ]
     },
     "execution_count": 8,
     "metadata": {},
     "output_type": "execute_result"
    }
   ],
   "source": [
    "df[\"latitude\"].head(10)"
   ]
  }
 ],
 "metadata": {
  "kernelspec": {
   "display_name": "Python 3.8.13 ('geo_env')",
   "language": "python",
   "name": "python3"
  },
  "language_info": {
   "codemirror_mode": {
    "name": "ipython",
    "version": 3
   },
   "file_extension": ".py",
   "mimetype": "text/x-python",
   "name": "python",
   "nbconvert_exporter": "python",
   "pygments_lexer": "ipython3",
   "version": "3.8.13"
  },
  "orig_nbformat": 4,
  "vscode": {
   "interpreter": {
    "hash": "6f09629a95fec6ed3ac22ed764583667a844c769370b55e5a4240b6229385ad5"
   }
  }
 },
 "nbformat": 4,
 "nbformat_minor": 2
}
