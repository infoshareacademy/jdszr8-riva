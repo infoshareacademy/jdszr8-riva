{
 "cells": [
  {
   "cell_type": "code",
   "execution_count": 13,
   "metadata": {},
   "outputs": [],
   "source": [
    "import pandas as pd\n",
    "from cleaning_functions.cuisine_column import clean_cuisine_column\n",
    "from cleaning_functions.cost_column import clean_cost_column\n",
    "from cleaning_functions.coordinates_columns import coordinates_generator\n",
    "from cleaning_functions.name_column import clean_name_column\n",
    "from cleaning_functions.phone_column import clean_phone_column\n",
    "df = pd.read_csv(\"zomato.csv\")\n"
   ]
  },
  {
   "cell_type": "code",
   "execution_count": 14,
   "metadata": {},
   "outputs": [],
   "source": [
    "def clean_dataframe():\n",
    "\n",
    "    clean_cuisine_column(df)\n",
    "    clean_cost_column(df)\n",
    "    coordinates_generator(df)\n",
    "\n",
    "    \n",
    "if __name__ == '__main__':\n",
    "    clean_dataframe()"
   ]
  },
  {
   "cell_type": "code",
   "execution_count": 15,
   "metadata": {},
   "outputs": [],
   "source": [
    "# neccesary to overwrite dataframe due to use of drop method\n",
    "df = clean_name_column(df)\n",
    "df = clean_phone_column(df) "
   ]
  },
  {
   "cell_type": "code",
   "execution_count": 16,
   "metadata": {},
   "outputs": [
    {
     "name": "stdout",
     "output_type": "stream",
     "text": [
      "<class 'pandas.core.frame.DataFrame'>\n",
      "RangeIndex: 51717 entries, 0 to 51716\n",
      "Data columns (total 19 columns):\n",
      " #   Column           Non-Null Count  Dtype  \n",
      "---  ------           --------------  -----  \n",
      " 0   url              51717 non-null  object \n",
      " 1   address          51717 non-null  object \n",
      " 2   name             51717 non-null  object \n",
      " 3   online_order     51717 non-null  object \n",
      " 4   book_table       51717 non-null  object \n",
      " 5   rate             43942 non-null  object \n",
      " 6   votes            51717 non-null  int64  \n",
      " 7   phone            51717 non-null  object \n",
      " 8   location         51696 non-null  object \n",
      " 9   rest_type        51490 non-null  object \n",
      " 10  dish_liked       23639 non-null  object \n",
      " 11  cuisines         51672 non-null  object \n",
      " 12  cost             51717 non-null  object \n",
      " 13  reviews_list     51717 non-null  object \n",
      " 14  menu_item        51717 non-null  object \n",
      " 15  listed_in(type)  51717 non-null  object \n",
      " 16  listed_in(city)  51717 non-null  object \n",
      " 17  latitude         51696 non-null  float64\n",
      " 18  longitude        51696 non-null  float64\n",
      "dtypes: float64(2), int64(1), object(16)\n",
      "memory usage: 7.5+ MB\n"
     ]
    }
   ],
   "source": [
    "df.info()"
   ]
  },
  {
   "cell_type": "code",
   "execution_count": 17,
   "metadata": {},
   "outputs": [
    {
     "data": {
      "text/plain": [
       "array(['800', '300', '600', '700', '550', '500', '450', '650', '400',\n",
       "       '900', '200', '750', '150', '850', '100', '1200', '350', '250',\n",
       "       '950', '1000', '1500', '1300', '199', '80', '1100', '160', '1600',\n",
       "       '230', '130', '50', '190', '1700', 'nan', '1400', '180', '1350',\n",
       "       '2200', '2000', '1800', '1900', '330', '2500', '2100', '3000',\n",
       "       '2800', '3400', '40', '1250', '3500', '4000', '2400', '2600',\n",
       "       '120', '1450', '469', '70', '3200', '60', '560', '240', '360',\n",
       "       '6000', '1050', '2300', '4100', '5000', '3700', '1650', '2700',\n",
       "       '4500', '140'], dtype=object)"
      ]
     },
     "execution_count": 17,
     "metadata": {},
     "output_type": "execute_result"
    }
   ],
   "source": [
    "df[\"cost\"].unique()"
   ]
  },
  {
   "cell_type": "code",
   "execution_count": 18,
   "metadata": {},
   "outputs": [
    {
     "data": {
      "text/plain": [
       "0    [North Indian, Mughlai, Chinese]\n",
       "1       [Chinese, North Indian, Thai]\n",
       "2            [Cafe, Mexican, Italian]\n",
       "3        [South Indian, North Indian]\n",
       "4          [North Indian, Rajasthani]\n",
       "Name: cuisines, dtype: object"
      ]
     },
     "execution_count": 18,
     "metadata": {},
     "output_type": "execute_result"
    }
   ],
   "source": [
    "df[\"cuisines\"].head()"
   ]
  },
  {
   "cell_type": "code",
   "execution_count": 19,
   "metadata": {},
   "outputs": [
    {
     "data": {
      "text/plain": [
       "0    12.968673\n",
       "1    12.967533\n",
       "2    12.966980\n",
       "3    12.963456\n",
       "4    12.945851\n",
       "5    12.945786\n",
       "6    12.946397\n",
       "7    12.963218\n",
       "8    12.967346\n",
       "9    12.962961\n",
       "Name: latitude, dtype: float64"
      ]
     },
     "execution_count": 19,
     "metadata": {},
     "output_type": "execute_result"
    }
   ],
   "source": [
    "df[\"latitude\"].head(10)"
   ]
  },
  {
   "cell_type": "code",
   "execution_count": 20,
   "metadata": {},
   "outputs": [
    {
     "data": {
      "text/plain": [
       "0.002176"
      ]
     },
     "execution_count": 20,
     "metadata": {},
     "output_type": "execute_result"
    }
   ],
   "source": [
    "import random\n",
    "z = round(random.uniform(-0.005,0.005),6)\n",
    "# y = round(random.uniform(-0.005,0.005),3)\n",
    "z"
   ]
  },
  {
   "cell_type": "code",
   "execution_count": 21,
   "metadata": {},
   "outputs": [
    {
     "data": {
      "text/plain": [
       "51707                   08049435000\n",
       "51708     08039451000, 918884038484\n",
       "51709    919980121279, 919900240646\n",
       "51710                  919148155994\n",
       "51711                   08065951222\n",
       "51712                   08040301477\n",
       "51713                  918197675843\n",
       "51714                     No number\n",
       "51715                   08049652769\n",
       "51716                  918071117272\n",
       "Name: phone, dtype: object"
      ]
     },
     "execution_count": 21,
     "metadata": {},
     "output_type": "execute_result"
    }
   ],
   "source": [
    "df[\"phone\"].tail(10)"
   ]
  },
  {
   "cell_type": "code",
   "execution_count": 22,
   "metadata": {},
   "outputs": [
    {
     "data": {
      "text/plain": [
       "0                                               Jalsa\n",
       "1                                      Spice Elephant\n",
       "2                                     San Churro Cafe\n",
       "3                               Addhuri Udupi Bhojana\n",
       "4                                       Grand Village\n",
       "5                                     Timepass Dinner\n",
       "6     Rosewood International Hotel - Bar & Restaurant\n",
       "7                                              Onesta\n",
       "8                                      Penthouse Cafe\n",
       "9                                           Smacznego\n",
       "10                                Café Down The Alley\n",
       "11                                       Cafe Shuffle\n",
       "12                                   The Coffee Shack\n",
       "13                                         Caf-Eleven\n",
       "14                                    San Churro Cafe\n",
       "Name: name, dtype: object"
      ]
     },
     "execution_count": 22,
     "metadata": {},
     "output_type": "execute_result"
    }
   ],
   "source": [
    "df['name'].head(15)"
   ]
  }
 ],
 "metadata": {
  "kernelspec": {
   "display_name": "Python 3.9.12 ('bangalore')",
   "language": "python",
   "name": "python3"
  },
  "language_info": {
   "codemirror_mode": {
    "name": "ipython",
    "version": 3
   },
   "file_extension": ".py",
   "mimetype": "text/x-python",
   "name": "python",
   "nbconvert_exporter": "python",
   "pygments_lexer": "ipython3",
   "version": "3.9.12"
  },
  "orig_nbformat": 4,
  "vscode": {
   "interpreter": {
    "hash": "dd5a0b6f96e452150947b8710ecedf36cce7a5ffd0ecbebd44beaea46450f737"
   }
  }
 },
 "nbformat": 4,
 "nbformat_minor": 2
}
