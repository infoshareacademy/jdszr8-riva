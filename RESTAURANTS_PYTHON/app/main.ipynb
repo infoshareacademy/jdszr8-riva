{
 "cells": [
  {
   "cell_type": "code",
   "execution_count": 3,
   "metadata": {},
   "outputs": [],
   "source": [
    "import pandas as pd\n",
    "import numpy as np\n",
    "import ipywidgets as widgets\n",
    "from IPython.display import display\n",
    "import numpy as np\n",
    "from functions.functions_to_import import display_widgets\n",
    "\n",
    "df = pd.read_csv(\"cleaned_zomato.csv\")\n",
    "df[\"cuisines\"] = df[\"cuisines\"].apply(eval)"
   ]
  },
  {
   "cell_type": "code",
   "execution_count": 4,
   "metadata": {},
   "outputs": [
    {
     "data": {
      "application/vnd.jupyter.widget-view+json": {
       "model_id": "d5cbb7fefdc34d0b83349903d677069d",
       "version_major": 2,
       "version_minor": 0
      },
      "text/plain": [
       "SelectMultiple(description='Cuisines', options=('North Indian', 'Chinese', 'South Indian', 'Fast Food', 'Birya…"
      ]
     },
     "metadata": {},
     "output_type": "display_data"
    },
    {
     "data": {
      "application/vnd.jupyter.widget-view+json": {
       "model_id": "fadc86cb2d8e47558f889666b63c6d81",
       "version_major": 2,
       "version_minor": 0
      },
      "text/plain": [
       "FloatSlider(value=4.0, description='Minimum rate: ', max=5.0)"
      ]
     },
     "metadata": {},
     "output_type": "display_data"
    },
    {
     "data": {
      "application/vnd.jupyter.widget-view+json": {
       "model_id": "7d41f51ccda9465a855f8df92bf9572f",
       "version_major": 2,
       "version_minor": 0
      },
      "text/plain": [
       "SelectionRangeSlider(description='Price range: ', index=(0, 3), options=('$', '$$', '$$$', '$$$$'), value=('$'…"
      ]
     },
     "metadata": {},
     "output_type": "display_data"
    },
    {
     "data": {
      "application/vnd.jupyter.widget-view+json": {
       "model_id": "36a8782d7c4e45478e26fc2961808c79",
       "version_major": 2,
       "version_minor": 0
      },
      "text/plain": [
       "Button(description='OK', style=ButtonStyle())"
      ]
     },
     "metadata": {},
     "output_type": "display_data"
    },
    {
     "name": "stdout",
     "output_type": "stream",
     "text": [
      "Your preferences:\n",
      " -- cuisine: ('Chinese', 'South Indian', 'Fast Food') \n",
      " -- minimum rating: 2.5 \n",
      " -- price: ('$$', '$$$')\n"
     ]
    },
    {
     "ename": "NameError",
     "evalue": "name 'filter_data' is not defined",
     "output_type": "error",
     "traceback": [
      "\u001b[1;31m---------------------------------------------------------------------------\u001b[0m",
      "\u001b[1;31mNameError\u001b[0m                                 Traceback (most recent call last)",
      "File \u001b[1;32mc:\\Users\\user\\Desktop\\app\\functions\\functions_to_import.py:57\u001b[0m, in \u001b[0;36mdisplay_widgets.<locals>.on_button_clicked\u001b[1;34m(b)\u001b[0m\n\u001b[0;32m     55\u001b[0m button\u001b[39m.\u001b[39mclose()\n\u001b[0;32m     56\u001b[0m display_preferences(preferences)\n\u001b[1;32m---> 57\u001b[0m run_application(preferences,df)\n",
      "File \u001b[1;32mc:\\Users\\user\\Desktop\\app\\functions\\run_application.py:5\u001b[0m, in \u001b[0;36mrun_application\u001b[1;34m(preferences, df)\u001b[0m\n\u001b[0;32m      3\u001b[0m \u001b[39mdef\u001b[39;00m \u001b[39mrun_application\u001b[39m(preferences,df:pd\u001b[39m.\u001b[39mDataFrame):\n\u001b[1;32m----> 5\u001b[0m     filtered_data \u001b[39m=\u001b[39m filter_data(preferences,df)\n\u001b[0;32m      6\u001b[0m     user_location\u001b[39m=\u001b[39mgenerate_user_location(filtered_data)\n\u001b[0;32m      7\u001b[0m     data_with_distance\u001b[39m=\u001b[39mcalculate_distance_and_walk_time(filtered_data, user_location)\n",
      "\u001b[1;31mNameError\u001b[0m: name 'filter_data' is not defined"
     ]
    }
   ],
   "source": [
    "display_widgets(df)"
   ]
  }
 ],
 "metadata": {
  "kernelspec": {
   "display_name": "Python 3.8.13 ('geo_env')",
   "language": "python",
   "name": "python3"
  },
  "language_info": {
   "codemirror_mode": {
    "name": "ipython",
    "version": 3
   },
   "file_extension": ".py",
   "mimetype": "text/x-python",
   "name": "python",
   "nbconvert_exporter": "python",
   "pygments_lexer": "ipython3",
   "version": "3.8.13"
  },
  "orig_nbformat": 4,
  "vscode": {
   "interpreter": {
    "hash": "6f09629a95fec6ed3ac22ed764583667a844c769370b55e5a4240b6229385ad5"
   }
  }
 },
 "nbformat": 4,
 "nbformat_minor": 2
}
